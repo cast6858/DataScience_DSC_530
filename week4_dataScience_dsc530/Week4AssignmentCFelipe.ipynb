{
 "cells": [
  {
   "cell_type": "markdown",
   "id": "c515075d",
   "metadata": {},
   "source": [
    "Felipe Castillo¶\n",
    "http://thinkstats2.com\n",
    "\n",
    "Assignement week Four\n",
    "\n",
    "DSC530-T301 Data Exploration and Analysis"
   ]
  },
  {
   "cell_type": "markdown",
   "id": "b43cd75b",
   "metadata": {},
   "source": [
    "#Exercise 3.1\n"
   ]
  },
  {
   "cell_type": "code",
   "execution_count": 59,
   "id": "b9da4e28",
   "metadata": {},
   "outputs": [],
   "source": [
    "from __future__ import print_function, division\n",
    "\n",
    "import sys\n",
    "import os\n",
    "\n",
    "\n",
    "os.chdir ('C:\\ExplorartoryDataAnalysis_DSC_530\\ThinkStats2\\code')\n",
    "\n",
    "import matplotlib.pyplot as plt\n",
    "import seaborn as sns\n",
    "import thinkstats2\n",
    "import nsfg\n",
    "import thinkplot\n",
    "import numpy as np\n",
    "\n",
    "\n",
    "\n",
    "\n",
    "\n",
    "#setting working directory to my directory\n"
   ]
  },
  {
   "cell_type": "code",
   "execution_count": 8,
   "id": "567550d9",
   "metadata": {},
   "outputs": [],
   "source": [
    "resp = nsfg.ReadFemResp()\n",
    "\n",
    "\n",
    "resp_df = resp['numkdhh']\n",
    "\n"
   ]
  },
  {
   "cell_type": "code",
   "execution_count": 11,
   "id": "0f448cc0",
   "metadata": {},
   "outputs": [
    {
     "data": {
      "image/png": "[encoded data removed]",
      "text/plain": [
       "<Figure size 432x288 with 1 Axes>"
      ]
     },
     "metadata": {
      "needs_background": "light"
     },
     "output_type": "display_data"
    }
   ],
   "source": [
    "hist = thinkstats2.Hist(resp_df, label='People ')\n",
    "thinkplot.Hist(hist)\n",
    "thinkplot.Config(xlabel='Familes with Kids Over 18', ylabel='Frequency')"
   ]
  },
  {
   "cell_type": "code",
   "execution_count": 13,
   "id": "ba429637",
   "metadata": {},
   "outputs": [],
   "source": [
    "pmf_resp = thinkstats2.Pmf(resp_df, label='label')"
   ]
  },
  {
   "cell_type": "code",
   "execution_count": 15,
   "id": "1b8e86d5",
   "metadata": {},
   "outputs": [],
   "source": [
    "def BiasPmf(pmf, label):\n",
    "    new_pmf = pmf.Copy(label=label)\n",
    "\n",
    "    for x, p in pmf.Items():\n",
    "        new_pmf.Mult(x, x)\n",
    "        \n",
    "    new_pmf.Normalize()\n",
    "    return new_pmf"
   ]
  },
  {
   "cell_type": "code",
   "execution_count": 19,
   "id": "f8961c8b",
   "metadata": {},
   "outputs": [
    {
     "data": {
      "image/png": "[encoded data removed]",
      "text/plain": [
       "<Figure size 432x288 with 1 Axes>"
      ]
     },
     "metadata": {
      "needs_background": "light"
     },
     "output_type": "display_data"
    }
   ],
   "source": [
    "biased_pmf = BiasPmf(pmf_resp, label='observed')\n",
    "thinkplot.PrePlot(2)\n",
    "thinkplot.Pmfs([pmf_resp, biased_pmf])\n",
    "thinkplot.Config(xlabel='Family size', ylabel='PMF')"
   ]
  },
  {
   "cell_type": "code",
   "execution_count": null,
   "id": "03193878",
   "metadata": {},
   "outputs": [],
   "source": [
    "#Exercise 3.2"
   ]
  },
  {
   "cell_type": "code",
   "execution_count": 21,
   "id": "e80e1328",
   "metadata": {},
   "outputs": [
    {
     "name": "stdout",
     "output_type": "stream",
     "text": [
      "Actual mean 1.024205155043831\n",
      "Observed mean 2.403679100664282\n"
     ]
    }
   ],
   "source": [
    "print(\"Actual mean\", pmf_resp.Mean())\n",
    "print(\"Observed mean\", biased_pmf.Mean())"
   ]
  },
  {
   "cell_type": "code",
   "execution_count": 25,
   "id": "e2ca0861",
   "metadata": {},
   "outputs": [
    {
     "name": "stdout",
     "output_type": "stream",
     "text": [
      "Summarzing distribution mean 2.5\n",
      "Summarzing distribution variance 2.9166666666666665\n"
     ]
    }
   ],
   "source": [
    "#Function is provided by thinkstats2 code\n",
    "# Allen Downey forgot to include this code per his comments \n",
    "#https://github.com/AllenDowney/ThinkStats2/issues/112\n",
    "\n",
    "PmfMean = thinkstats2.Mean(pmf_resp)\n",
    "PmfVar = thinkstats2.Var(pmf_resp)\n",
    "\n",
    "\n",
    "print(\"Summarzing distribution mean\", PmfMean)\n",
    "print(\"Summarzing distribution variance\", PmfVar)\n",
    "\n"
   ]
  },
  {
   "cell_type": "code",
   "execution_count": 27,
   "id": "48be5bf3",
   "metadata": {},
   "outputs": [],
   "source": [
    "#Exercise 4.1\n",
    "\n"
   ]
  },
  {
   "cell_type": "code",
   "execution_count": 30,
   "id": "5605d094",
   "metadata": {},
   "outputs": [
    {
     "data": {
      "text/html": [
       "<div>\n",
       "<style scoped>\n",
       "    .dataframe tbody tr th:only-of-type {\n",
       "        vertical-align: middle;\n",
       "    }\n",
       "\n",
       "    .dataframe tbody tr th {\n",
       "        vertical-align: top;\n",
       "    }\n",
       "\n",
       "    .dataframe thead th {\n",
       "        text-align: right;\n",
       "    }\n",
       "</style>\n",
       "<table border=\"1\" class=\"dataframe\">\n",
       "  <thead>\n",
       "    <tr style=\"text-align: right;\">\n",
       "      <th></th>\n",
       "      <th>caseid</th>\n",
       "      <th>pregordr</th>\n",
       "      <th>howpreg_n</th>\n",
       "      <th>howpreg_p</th>\n",
       "      <th>moscurrp</th>\n",
       "      <th>nowprgdk</th>\n",
       "      <th>pregend1</th>\n",
       "      <th>pregend2</th>\n",
       "      <th>nbrnaliv</th>\n",
       "      <th>multbrth</th>\n",
       "      <th>...</th>\n",
       "      <th>laborfor_i</th>\n",
       "      <th>religion_i</th>\n",
       "      <th>metro_i</th>\n",
       "      <th>basewgt</th>\n",
       "      <th>adj_mod_basewgt</th>\n",
       "      <th>finalwgt</th>\n",
       "      <th>secu_p</th>\n",
       "      <th>sest</th>\n",
       "      <th>cmintvw</th>\n",
       "      <th>totalwgt_lb</th>\n",
       "    </tr>\n",
       "  </thead>\n",
       "  <tbody>\n",
       "    <tr>\n",
       "      <th>0</th>\n",
       "      <td>1</td>\n",
       "      <td>1</td>\n",
       "      <td>NaN</td>\n",
       "      <td>NaN</td>\n",
       "      <td>NaN</td>\n",
       "      <td>NaN</td>\n",
       "      <td>6.0</td>\n",
       "      <td>NaN</td>\n",
       "      <td>1.0</td>\n",
       "      <td>NaN</td>\n",
       "      <td>...</td>\n",
       "      <td>0</td>\n",
       "      <td>0</td>\n",
       "      <td>0</td>\n",
       "      <td>3410.389399</td>\n",
       "      <td>3869.349602</td>\n",
       "      <td>6448.271112</td>\n",
       "      <td>2</td>\n",
       "      <td>9</td>\n",
       "      <td>NaN</td>\n",
       "      <td>8.8125</td>\n",
       "    </tr>\n",
       "    <tr>\n",
       "      <th>1</th>\n",
       "      <td>1</td>\n",
       "      <td>2</td>\n",
       "      <td>NaN</td>\n",
       "      <td>NaN</td>\n",
       "      <td>NaN</td>\n",
       "      <td>NaN</td>\n",
       "      <td>6.0</td>\n",
       "      <td>NaN</td>\n",
       "      <td>1.0</td>\n",
       "      <td>NaN</td>\n",
       "      <td>...</td>\n",
       "      <td>0</td>\n",
       "      <td>0</td>\n",
       "      <td>0</td>\n",
       "      <td>3410.389399</td>\n",
       "      <td>3869.349602</td>\n",
       "      <td>6448.271112</td>\n",
       "      <td>2</td>\n",
       "      <td>9</td>\n",
       "      <td>NaN</td>\n",
       "      <td>7.8750</td>\n",
       "    </tr>\n",
       "    <tr>\n",
       "      <th>2</th>\n",
       "      <td>2</td>\n",
       "      <td>1</td>\n",
       "      <td>NaN</td>\n",
       "      <td>NaN</td>\n",
       "      <td>NaN</td>\n",
       "      <td>NaN</td>\n",
       "      <td>5.0</td>\n",
       "      <td>NaN</td>\n",
       "      <td>3.0</td>\n",
       "      <td>5.0</td>\n",
       "      <td>...</td>\n",
       "      <td>0</td>\n",
       "      <td>0</td>\n",
       "      <td>0</td>\n",
       "      <td>7226.301740</td>\n",
       "      <td>8567.549110</td>\n",
       "      <td>12999.542264</td>\n",
       "      <td>2</td>\n",
       "      <td>12</td>\n",
       "      <td>NaN</td>\n",
       "      <td>9.1250</td>\n",
       "    </tr>\n",
       "    <tr>\n",
       "      <th>3</th>\n",
       "      <td>2</td>\n",
       "      <td>2</td>\n",
       "      <td>NaN</td>\n",
       "      <td>NaN</td>\n",
       "      <td>NaN</td>\n",
       "      <td>NaN</td>\n",
       "      <td>6.0</td>\n",
       "      <td>NaN</td>\n",
       "      <td>1.0</td>\n",
       "      <td>NaN</td>\n",
       "      <td>...</td>\n",
       "      <td>0</td>\n",
       "      <td>0</td>\n",
       "      <td>0</td>\n",
       "      <td>7226.301740</td>\n",
       "      <td>8567.549110</td>\n",
       "      <td>12999.542264</td>\n",
       "      <td>2</td>\n",
       "      <td>12</td>\n",
       "      <td>NaN</td>\n",
       "      <td>7.0000</td>\n",
       "    </tr>\n",
       "    <tr>\n",
       "      <th>4</th>\n",
       "      <td>2</td>\n",
       "      <td>3</td>\n",
       "      <td>NaN</td>\n",
       "      <td>NaN</td>\n",
       "      <td>NaN</td>\n",
       "      <td>NaN</td>\n",
       "      <td>6.0</td>\n",
       "      <td>NaN</td>\n",
       "      <td>1.0</td>\n",
       "      <td>NaN</td>\n",
       "      <td>...</td>\n",
       "      <td>0</td>\n",
       "      <td>0</td>\n",
       "      <td>0</td>\n",
       "      <td>7226.301740</td>\n",
       "      <td>8567.549110</td>\n",
       "      <td>12999.542264</td>\n",
       "      <td>2</td>\n",
       "      <td>12</td>\n",
       "      <td>NaN</td>\n",
       "      <td>6.1875</td>\n",
       "    </tr>\n",
       "  </tbody>\n",
       "</table>\n",
       "<p>5 rows × 244 columns</p>\n",
       "</div>"
      ],
      "text/plain": [
       "   caseid  pregordr  howpreg_n  howpreg_p  moscurrp  nowprgdk  pregend1  \\\n",
       "0       1         1        NaN        NaN       NaN       NaN       6.0   \n",
       "1       1         2        NaN        NaN       NaN       NaN       6.0   \n",
       "2       2         1        NaN        NaN       NaN       NaN       5.0   \n",
       "3       2         2        NaN        NaN       NaN       NaN       6.0   \n",
       "4       2         3        NaN        NaN       NaN       NaN       6.0   \n",
       "\n",
       "   pregend2  nbrnaliv  multbrth  ...  laborfor_i  religion_i  metro_i  \\\n",
       "0       NaN       1.0       NaN  ...           0           0        0   \n",
       "1       NaN       1.0       NaN  ...           0           0        0   \n",
       "2       NaN       3.0       5.0  ...           0           0        0   \n",
       "3       NaN       1.0       NaN  ...           0           0        0   \n",
       "4       NaN       1.0       NaN  ...           0           0        0   \n",
       "\n",
       "       basewgt  adj_mod_basewgt      finalwgt  secu_p  sest  cmintvw  \\\n",
       "0  3410.389399      3869.349602   6448.271112       2     9      NaN   \n",
       "1  3410.389399      3869.349602   6448.271112       2     9      NaN   \n",
       "2  7226.301740      8567.549110  12999.542264       2    12      NaN   \n",
       "3  7226.301740      8567.549110  12999.542264       2    12      NaN   \n",
       "4  7226.301740      8567.549110  12999.542264       2    12      NaN   \n",
       "\n",
       "   totalwgt_lb  \n",
       "0       8.8125  \n",
       "1       7.8750  \n",
       "2       9.1250  \n",
       "3       7.0000  \n",
       "4       6.1875  \n",
       "\n",
       "[5 rows x 244 columns]"
      ]
     },
     "execution_count": 30,
     "metadata": {},
     "output_type": "execute_result"
    }
   ],
   "source": [
    "preg = nsfg.ReadFemPreg()\n",
    "preg.head()"
   ]
  },
  {
   "cell_type": "code",
   "execution_count": 31,
   "id": "dd3c058c",
   "metadata": {},
   "outputs": [],
   "source": [
    "total_baby_weight_df = preg['totalwgt_lb']"
   ]
  },
  {
   "cell_type": "code",
   "execution_count": 35,
   "id": "ade8ed70",
   "metadata": {},
   "outputs": [],
   "source": [
    "myWeight = 8.6"
   ]
  },
  {
   "cell_type": "code",
   "execution_count": 33,
   "id": "54239b31",
   "metadata": {},
   "outputs": [],
   "source": [
    "def PercentileRank(scores, your_score):\n",
    "    count = 0\n",
    "    for score in scores:\n",
    "        if score <= your_score:\n",
    "            count += 1\n",
    "\n",
    "    percentile_rank = 100.0 * count / len(scores)\n",
    "    return percentile_rank"
   ]
  },
  {
   "cell_type": "code",
   "execution_count": 38,
   "id": "5172769c",
   "metadata": {},
   "outputs": [
    {
     "data": {
      "text/plain": [
       "56.80865151180755"
      ]
     },
     "execution_count": 38,
     "metadata": {},
     "output_type": "execute_result"
    }
   ],
   "source": [
    "PercentileRank(total_baby_weight_df, myWeight)"
   ]
  },
  {
   "cell_type": "markdown",
   "id": "0261bf62",
   "metadata": {},
   "source": [
    "#Exercise 4.2\n"
   ]
  },
  {
   "cell_type": "code",
   "execution_count": 43,
   "id": "1480a8cb",
   "metadata": {},
   "outputs": [
    {
     "name": "stdout",
     "output_type": "stream",
     "text": [
      "[0.16153196 0.72895067 0.93699185 0.53114462 0.55516224 0.92549773\n",
      " 0.15809285 0.18450443 0.72551909 0.03468544 0.42183611 0.585859\n",
      " 0.95434629 0.59306517 0.59843053 0.95663672 0.95205237 0.79812656\n",
      " 0.83326609 0.44176025 0.92959745 0.40772089 0.88340308 0.49353508\n",
      " 0.76503496 0.68909505 0.94432813 0.05056109 0.34101042 0.192268\n",
      " 0.66654778 0.12953598 0.64956714 0.33595341 0.06066803 0.13092611\n",
      " 0.67187505 0.19202974 0.68018499 0.12609287 0.41493639 0.3364809\n",
      " 0.14038436 0.52527796 0.11902356 0.57870345 0.21600815 0.57735814\n",
      " 0.67898847 0.78466954 0.999849   0.17211884 0.08988648 0.22459077\n",
      " 0.27028779 0.72766201 0.80604037 0.58681759 0.15305525 0.08158929\n",
      " 0.26181609 0.89528106 0.37925527 0.87417292 0.72001688 0.99128281\n",
      " 0.04357134 0.86339156 0.76124118 0.74870532 0.64311075 0.10464908\n",
      " 0.49481699 0.1987457  0.65010598 0.11828292 0.14823945 0.61978986\n",
      " 0.53718689 0.07111346 0.50357146 0.79856856 0.5993908  0.25123309\n",
      " 0.13871576 0.47767211 0.87608896 0.19958482 0.2420044  0.89039387\n",
      " 0.92331225 0.30697843 0.36970905 0.15082351 0.01825198 0.97623999\n",
      " 0.19366788 0.99840111 0.2006427  0.43372381 0.43011137 0.6301752\n",
      " 0.32830731 0.07503382 0.34292065 0.90693386 0.69123918 0.3883938\n",
      " 0.4222296  0.08893275 0.1343197  0.44198928 0.49455605 0.97524694\n",
      " 0.72872289 0.63007354 0.11301369 0.05572455 0.94252971 0.64954705\n",
      " 0.99776029 0.14098985 0.2114221  0.61887606 0.15573041 0.15800473\n",
      " 0.60623612 0.87661143 0.9290501  0.41338074 0.91059149 0.44221897\n",
      " 0.95277908 0.80348009 0.45373116 0.57285872 0.31721827 0.94943701\n",
      " 0.73747559 0.83372082 0.2799315  0.35929258 0.17840724 0.40849899\n",
      " 0.13393849 0.13613879 0.91415653 0.75294094 0.69662268 0.61210722\n",
      " 0.80582487 0.52198144 0.07150901 0.470812   0.76254969 0.72776543\n",
      " 0.77173434 0.3247131  0.11265895 0.70975001 0.46359533 0.05728023\n",
      " 0.94595194 0.35122049 0.43547179 0.30315139 0.88569223 0.0013966\n",
      " 0.02230568 0.57149107 0.15883948 0.85370034 0.58379075 0.84048365\n",
      " 0.20305054 0.70156862 0.38409348 0.91569406 0.43419148 0.09040567\n",
      " 0.77283419 0.91340725 0.89997243 0.24838324 0.13129436 0.92448845\n",
      " 0.88050228 0.94939732 0.05243984 0.49391825 0.56241156 0.47929615\n",
      " 0.07656559 0.71154708 0.23360243 0.52556902 0.12981351 0.11492082\n",
      " 0.41331919 0.74963255 0.1603372  0.16145741 0.2247551  0.86310372\n",
      " 0.14678364 0.04647248 0.14653202 0.48120817 0.85240731 0.70247332\n",
      " 0.47472967 0.13948847 0.8452462  0.95197204 0.55599927 0.46293028\n",
      " 0.38097111 0.20652901 0.31298397 0.03617702 0.74063259 0.45592412\n",
      " 0.86527691 0.17591483 0.66041359 0.0868868  0.0881625  0.66410283\n",
      " 0.83630618 0.78464236 0.59573176 0.10585518 0.39122714 0.54109597\n",
      " 0.90524611 0.05850161 0.03634604 0.10169622 0.33965958 0.25030072\n",
      " 0.95310951 0.78955397 0.63753755 0.31399244 0.68308403 0.95801997\n",
      " 0.00658137 0.70814397 0.64665694 0.32035828 0.3856997  0.47813436\n",
      " 0.75214215 0.05263572 0.01364214 0.57386149 0.75257436 0.97513892\n",
      " 0.56166342 0.38560973 0.99238969 0.52659683 0.92464993 0.81451299\n",
      " 0.93282875 0.30389985 0.57612558 0.81591408 0.84556846 0.11424908\n",
      " 0.41262646 0.31808773 0.44921917 0.74128823 0.31992928 0.92127611\n",
      " 0.28062718 0.74472684 0.52354779 0.57596459 0.72321098 0.15481384\n",
      " 0.09762772 0.42251841 0.29835984 0.28724535 0.1217749  0.28611315\n",
      " 0.18543016 0.39001171 0.24917681 0.09803947 0.79618234 0.11979034\n",
      " 0.46843381 0.07033075 0.83501115 0.69975763 0.49171368 0.33515191\n",
      " 0.20346587 0.37726967 0.76366316 0.28221516 0.93046745 0.60774972\n",
      " 0.63206373 0.89660824 0.4909529  0.71613669 0.65823126 0.5061258\n",
      " 0.23602784 0.37877944 0.72492463 0.63017373 0.71244909 0.66017499\n",
      " 0.08498288 0.64561405 0.55564353 0.32945789 0.44607205 0.45198682\n",
      " 0.21328942 0.38247899 0.11482997 0.48822144 0.87811544 0.78217263\n",
      " 0.26011676 0.73732893 0.45067039 0.35511406 0.20749756 0.42780664\n",
      " 0.26671728 0.99120819 0.7057188  0.71483635 0.53624646 0.48102214\n",
      " 0.01287004 0.95562018 0.65428975 0.90833989 0.26618158 0.77638473\n",
      " 0.0524001  0.05646032 0.36975864 0.35495774 0.90625589 0.13368794\n",
      " 0.8003946  0.28588104 0.30115988 0.69770234 0.21680262 0.2229634\n",
      " 0.795346   0.43683908 0.50965655 0.34874976 0.90190903 0.68439601\n",
      " 0.55128776 0.85090069 0.97381396 0.13037459 0.32927862 0.33486028\n",
      " 0.92524458 0.95301346 0.80138116 0.17889361 0.66553347 0.04727003\n",
      " 0.39308597 0.07142981 0.11016741 0.71942882 0.31530268 0.42977286\n",
      " 0.71865879 0.5454184  0.02349694 0.77732731 0.76368697 0.85360371\n",
      " 0.2593767  0.15054649 0.26419359 0.05409774 0.57293921 0.15453196\n",
      " 0.05524215 0.17083695 0.7650097  0.07305912 0.57186865 0.20173565\n",
      " 0.18469522 0.86351299 0.48869222 0.6664205  0.02318593 0.11925042\n",
      " 0.02035861 0.05825315 0.8473264  0.97044918 0.40685689 0.58839439\n",
      " 0.73108879 0.08743336 0.5744191  0.84682761 0.20007557 0.74981839\n",
      " 0.69050447 0.42300942 0.61143394 0.99655511 0.38378829 0.80304684\n",
      " 0.3801744  0.25435694 0.98508432 0.45658085 0.11565498 0.15039151\n",
      " 0.77612022 0.62596198 0.24167478 0.06391525 0.19876359 0.88560175\n",
      " 0.66369988 0.53933616 0.25575396 0.91828192 0.42754363 0.82241826\n",
      " 0.13315838 0.54521431 0.16714566 0.16658002 0.45767979 0.01916349\n",
      " 0.13154562 0.8632975  0.4251557  0.27453017 0.75721036 0.27266288\n",
      " 0.03992076 0.5487488  0.25044263 0.74782364 0.78448147 0.73099787\n",
      " 0.74013422 0.08509486 0.03971357 0.64407573 0.93872894 0.67794393\n",
      " 0.7933933  0.50005661 0.01312113 0.56952804 0.70712465 0.85741594\n",
      " 0.24494614 0.10739498 0.25792163 0.74529547 0.78920541 0.89014906\n",
      " 0.58401483 0.44410639 0.32620117 0.92218579 0.46393339 0.27831476\n",
      " 0.13405762 0.37810105 0.21478506 0.49527694 0.15563769 0.63768285\n",
      " 0.84323387 0.06486804 0.88429032 0.65516654 0.13754168 0.33604618\n",
      " 0.89765045 0.45656347 0.33746673 0.94867702 0.43563819 0.40561492\n",
      " 0.30605325 0.71575755 0.99364233 0.2160383  0.69960788 0.97589068\n",
      " 0.81808304 0.96453929 0.18555537 0.29917518 0.67324042 0.78020478\n",
      " 0.15386259 0.83252577 0.64100327 0.99376635 0.47031018 0.60434411\n",
      " 0.34396444 0.3828125  0.87280991 0.17560619 0.08164656 0.94882121\n",
      " 0.20914878 0.69302613 0.18412488 0.34488757 0.70761725 0.00787583\n",
      " 0.29041214 0.64201511 0.82601069 0.79388901 0.06205177 0.28570731\n",
      " 0.46298443 0.5907262  0.94155593 0.90162371 0.38804344 0.20848387\n",
      " 0.56315088 0.89000515 0.38225733 0.2454446  0.82722031 0.91796273\n",
      " 0.6807237  0.06454241 0.11113593 0.97776345 0.76437611 0.86338803\n",
      " 0.73189262 0.56758366 0.50487378 0.28868213 0.28092698 0.58852715\n",
      " 0.6553331  0.48250502 0.93130515 0.88406078 0.74523013 0.1253734\n",
      " 0.68402557 0.13599314 0.597093   0.93417521 0.0281103  0.14099826\n",
      " 0.02010518 0.74335965 0.20784054 0.13932769 0.04235863 0.55076241\n",
      " 0.30035859 0.19829897 0.16880021 0.97740938 0.40631196 0.67185089\n",
      " 0.85336878 0.35375205 0.39943621 0.52733932 0.52888924 0.20810594\n",
      " 0.47913269 0.76962237 0.15595962 0.39703948 0.4158901  0.84694079\n",
      " 0.4671981  0.80610468 0.61582282 0.1624233  0.33670953 0.79136726\n",
      " 0.88017304 0.86392153 0.79520454 0.76999233 0.26144623 0.30022542\n",
      " 0.22600278 0.72073912 0.89946612 0.34149321 0.61443896 0.39225786\n",
      " 0.6072889  0.63756914 0.99618756 0.18103476 0.93547947 0.77899751\n",
      " 0.7597267  0.363047   0.28477624 0.71958409 0.82021119 0.74162224\n",
      " 0.54585818 0.60996064 0.38102581 0.90119072 0.07460165 0.50685658\n",
      " 0.05100843 0.57259531 0.23365221 0.48125267 0.51372258 0.42974739\n",
      " 0.11186601 0.53569371 0.62851168 0.46110628 0.13033648 0.99341465\n",
      " 0.9580434  0.76927785 0.51430154 0.53524193 0.25481137 0.27349458\n",
      " 0.97198434 0.77105156 0.45969756 0.18003043 0.09433127 0.293506\n",
      " 0.59423307 0.69905731 0.04472848 0.40823974 0.96142146 0.37435225\n",
      " 0.308422   0.08876061 0.97213584 0.87402798 0.80401556 0.51078076\n",
      " 0.85250682 0.14798027 0.84347413 0.56705197 0.09365636 0.1032958\n",
      " 0.99298541 0.5476192  0.22361988 0.94639032 0.22535299 0.27750702\n",
      " 0.24621436 0.66288942 0.99991082 0.14442385 0.9777839  0.08349699\n",
      " 0.49691045 0.77392007 0.42157822 0.06322119 0.52340263 0.40938477\n",
      " 0.31436763 0.88184134 0.30300176 0.02722789 0.52262848 0.94938244\n",
      " 0.40849282 0.45313959 0.43940675 0.51845514 0.91937921 0.41477474\n",
      " 0.60872264 0.25179628 0.88761873 0.53273608 0.27393465 0.84149167\n",
      " 0.91095861 0.75075655 0.80599735 0.42500748 0.52161451 0.31789943\n",
      " 0.18681202 0.18983292 0.08367434 0.23571466 0.85210333 0.72047984\n",
      " 0.54814757 0.79437134 0.2174093  0.21833361 0.63487608 0.46715345\n",
      " 0.33297769 0.33398151 0.21363831 0.72948565 0.25819259 0.1105066\n",
      " 0.66412784 0.43703967 0.84663632 0.50485359 0.75113939 0.70444001\n",
      " 0.81876414 0.11517116 0.16232249 0.16502857 0.52231971 0.18070401\n",
      " 0.68209334 0.31428621 0.20928671 0.86001336 0.47369943 0.24177209\n",
      " 0.49606975 0.43698436 0.66860342 0.29907413 0.08476887 0.36633972\n",
      " 0.47420971 0.20405022 0.29389271 0.1762472  0.09422428 0.88665684\n",
      " 0.26815458 0.99512217 0.2151834  0.42624559 0.77184724 0.72984457\n",
      " 0.75956377 0.12230383 0.73544857 0.1300216  0.83685151 0.63033142\n",
      " 0.28985258 0.66307874 0.85728315 0.24865864 0.70792057 0.47769636\n",
      " 0.21102115 0.15994273 0.11395337 0.71572666 0.40588361 0.2449107\n",
      " 0.81822703 0.35535934 0.25132309 0.1550416  0.24971947 0.36636667\n",
      " 0.0434225  0.48634724 0.1915145  0.72834082 0.5571808  0.98383579\n",
      " 0.17573479 0.54577039 0.30083789 0.72131854 0.29985397 0.36452698\n",
      " 0.83544861 0.21199816 0.36641892 0.30129403 0.63651114 0.85724431\n",
      " 0.44043429 0.5971757  0.56289456 0.23936276 0.02002963 0.92658396\n",
      " 0.33494009 0.10511524 0.02825159 0.95095571 0.2250962  0.85443599\n",
      " 0.1252402  0.74754833 0.70052165 0.21239106 0.89926651 0.14504281\n",
      " 0.25640334 0.94154024 0.79233531 0.87993875 0.88844373 0.22530144\n",
      " 0.02591191 0.61356911 0.30858471 0.52938861 0.6526137  0.62038246\n",
      " 0.72047134 0.94884255 0.71970564 0.10433633 0.6545882  0.02809631\n",
      " 0.53992491 0.30766972 0.75358407 0.96915564 0.74832466 0.37727192\n",
      " 0.67926846 0.56952278 0.42889022 0.66863439 0.41341575 0.78217636\n",
      " 0.36385983 0.7233539  0.75310416 0.72825491 0.63393593 0.4889807\n",
      " 0.71793853 0.13853884 0.7914045  0.1752813  0.18847276 0.10481152\n",
      " 0.99654794 0.06549266 0.46524446 0.48556505 0.61478685 0.15769286\n",
      " 0.39185047 0.53727838 0.38384985 0.32640066 0.37874019 0.96937607\n",
      " 0.10991327 0.69839665 0.64441647 0.63453895 0.84249823 0.744773\n",
      " 0.40116634 0.39868213 0.83210918 0.09645059 0.7301058  0.13189043\n",
      " 0.55723109 0.1697016  0.28845175 0.5641653  0.3977165  0.54866478\n",
      " 0.29661757 0.15203757 0.41921879 0.54440151 0.15150078 0.51718245\n",
      " 0.60306392 0.5019017  0.0858039  0.60390436 0.93335087 0.55432472\n",
      " 0.93230674 0.78125278 0.01314635 0.19298876 0.3511482  0.84854297\n",
      " 0.41264375 0.59953559 0.127708   0.17152879 0.93548508 0.91761971\n",
      " 0.80290714 0.24015292 0.30268826 0.10912916 0.7538382  0.71416752\n",
      " 0.5718025  0.98325145 0.34455608 0.64576624 0.09429667 0.64812481\n",
      " 0.51923996 0.73229904 0.46976923 0.92589568 0.70060957 0.64780831\n",
      " 0.63921537 0.89762664 0.34372136 0.39415119 0.84470829 0.58751139\n",
      " 0.33083172 0.58916582 0.30997183 0.63897762 0.52837926 0.38663333\n",
      " 0.98226223 0.52891164 0.89921908 0.72717039 0.95367104 0.58966459\n",
      " 0.74048762 0.79853555 0.17956931 0.1525667  0.64771214 0.53582163\n",
      " 0.01630107 0.19268053 0.42760405 0.07777865 0.38832225 0.41480134\n",
      " 0.84165676 0.60402865 0.70173605 0.22004077 0.49355381 0.87948582\n",
      " 0.75472857 0.37083177 0.28082565 0.0849879  0.11989992 0.67253798\n",
      " 0.14140861 0.97192024 0.51990032 0.37697482 0.63210135 0.60467176\n",
      " 0.96799066 0.27732148 0.05394769 0.38631296]\n"
     ]
    }
   ],
   "source": [
    "outRandomArray = np.random.random(size = 1000)\n",
    "print(outRandomArray)"
   ]
  },
  {
   "cell_type": "code",
   "execution_count": 52,
   "id": "5ccdba3d",
   "metadata": {},
   "outputs": [
    {
     "data": {
      "text/plain": [
       "{'xscale': 'linear', 'yscale': 'linear'}"
      ]
     },
     "execution_count": 52,
     "metadata": {},
     "output_type": "execute_result"
    },
    {
     "data": {
      "image/png": "[encoded data removed]",
      "text/plain": [
       "<Figure size 432x288 with 1 Axes>"
      ]
     },
     "metadata": {
      "needs_background": "light"
     },
     "output_type": "display_data"
    }
   ],
   "source": [
    "cdf = thinkstats2.Cdf(outRandomArray, label=\"CDF\")\n",
    "\n",
    "thinkplot.Cdf(cdf)\n"
   ]
  },
  {
   "cell_type": "code",
   "execution_count": 54,
   "id": "3825e47c",
   "metadata": {},
   "outputs": [],
   "source": [
    "pmf = thinkstats2.Pmf(outRandomArray)"
   ]
  },
  {
   "cell_type": "code",
   "execution_count": 61,
   "id": "f031c6f5",
   "metadata": {},
   "outputs": [
    {
     "data": {
      "text/plain": [
       "<AxesSubplot:ylabel='PMF'>"
      ]
     },
     "execution_count": 61,
     "metadata": {},
     "output_type": "execute_result"
    },
    {
     "data": {
      "image/png": "[encoded data removed]",
      "text/plain": [
       "<Figure size 432x288 with 1 Axes>"
      ]
     },
     "metadata": {
      "needs_background": "light"
     },
     "output_type": "display_data"
    }
   ],
   "source": [
    "plt.ylabel('PMF')\n",
    "sns.histplot(outRandomArray, stat='probability', bins=20)"
   ]
  },
  {
   "cell_type": "markdown",
   "id": "64d07c86",
   "metadata": {},
   "source": [
    "The cdf graph give more of a uniform look. However the PMF doesnt look to be 100 percent uniform. ALthought it very close to being a uniform graph. The Cdf almost resembles a liner graph."
   ]
  }
 ],
 "metadata": {
  "kernelspec": {
   "display_name": "Python 3",
   "language": "python",
   "name": "python3"
  },
  "language_info": {
   "codemirror_mode": {
    "name": "ipython",
    "version": 3
   },
   "file_extension": ".py",
   "mimetype": "text/x-python",
   "name": "python",
   "nbconvert_exporter": "python",
   "pygments_lexer": "ipython3",
   "version": "3.8.8"
  }
 },
 "nbformat": 4,
 "nbformat_minor": 5
}
