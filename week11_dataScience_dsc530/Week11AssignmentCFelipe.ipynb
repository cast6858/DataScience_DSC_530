{
 "cells": [
  {
   "cell_type": "markdown",
   "metadata": {},
   "source": [
    "# Felipe Castillo\n",
    "\n",
    "Week 11 HomeWork Assignment\n",
    "\n",
    "http://thinkstats2.com\n",
    "\n",
    "\n"
   ]
  },
  {
   "cell_type": "code",
   "execution_count": 10,
   "metadata": {},
   "outputs": [],
   "source": [
    "from __future__ import print_function, division\n",
    "\n",
    "%matplotlib inline\n",
    "\n",
    "import warnings\n",
    "warnings.filterwarnings('ignore', category=FutureWarning)\n",
    "\n",
    "import numpy as np\n",
    "import pandas as pd\n",
    "import os\n",
    "\n",
    "import random\n",
    "\n",
    "os.chdir(r'C:\\ExplorartoryDataAnalysis_DSC_530\\ThinkStats2\\code')\n",
    "\n",
    "\n",
    "import thinkstats2\n",
    "import thinkplot"
   ]
  },
  {
   "cell_type": "markdown",
   "metadata": {},
   "source": [
    "## Survival analysis\n",
    "\n",
    "If we have an unbiased sample of complete lifetimes, we can compute the survival function from the CDF and the hazard function from the survival function.\n",
    "\n",
    "Here's the distribution of pregnancy length in the NSFG dataset."
   ]
  },
  {
   "cell_type": "code",
   "execution_count": 25,
   "metadata": {},
   "outputs": [],
   "source": [
    "def ResampleSurvival(resp, iters=101):\n",
    "    \"\"\"Resamples respondents and estimates the survival function.\n",
    "\n",
    "    resp: DataFrame of respondents\n",
    "    iters: number of resamples\n",
    "    \"\"\" \n",
    "    _, sf = EstimateMarriageSurvival(resp)\n",
    "    thinkplot.Plot(sf)\n",
    "\n",
    "    low, high = resp.agemarry.min(), resp.agemarry.max()\n",
    "    ts = np.arange(low, high, 1/12.0)\n",
    "\n",
    "    ss_seq = []\n",
    "    for _ in range(iters):\n",
    "        sample = thinkstats2.ResampleRowsWeighted(resp)\n",
    "        _, sf = EstimateMarriageSurvival(sample)\n",
    "        ss_seq.append(sf.Probs(ts))\n",
    "\n",
    "    low, high = thinkstats2.PercentileRows(ss_seq, [5, 95])\n",
    "    thinkplot.FillBetween(ts, low, high, color='gray', label='90% CI')"
   ]
  },
  {
   "cell_type": "markdown",
   "metadata": {},
   "source": [
    "The following plot shows the survival function based on the raw data and a 90% CI based on resampling."
   ]
  },
  {
   "cell_type": "markdown",
   "metadata": {
    "collapsed": true
   },
   "source": [
    "## Exercises"
   ]
  },
  {
   "cell_type": "markdown",
   "metadata": {
    "collapsed": true
   },
   "source": [
    "**Exercise:**    In NSFG Cycles 6 and 7, the variable `cmdivorcx` contains the date of divorce for the respondent’s first marriage, if applicable, encoded in century-months.\n",
    "\n",
    "Compute the duration of marriages that have ended in divorce, and the duration, so far, of marriages that are ongoing. Estimate the hazard and survival curve for the duration of marriage.\n",
    "\n",
    "Use resampling to take into account sampling weights, and plot data from several resamples to visualize sampling error.\n",
    "\n",
    "Consider dividing the respondents into groups by decade of birth, and possibly by age at first marriage."
   ]
  },
  {
   "cell_type": "code",
   "execution_count": 37,
   "metadata": {},
   "outputs": [],
   "source": [
    "def CleanData(resp):\n",
    "    \"\"\"Cleans respondent data.\n",
    "\n",
    "    resp: DataFrame\n",
    "    \"\"\"\n",
    "    resp.cmdivorcx.replace([9998, 9999], np.nan, inplace=True)\n",
    "\n",
    "    resp['notdivorced'] = resp.cmdivorcx.isnull().astype(int)\n",
    "    resp['duration'] = (resp.cmdivorcx - resp.cmmarrhx) / 12.0\n",
    "    resp['durationsofar'] = (resp.cmintvw - resp.cmmarrhx) / 12.0\n",
    "\n",
    "    month0 = pd.to_datetime('1899-12-15')\n",
    "    dates = [month0 + pd.DateOffset(months=cm) \n",
    "             for cm in resp.cmbirth]\n",
    "    resp['decade'] = (pd.DatetimeIndex(dates).year - 1900) // 10"
   ]
  },
  {
   "cell_type": "code",
   "execution_count": 346,
   "metadata": {},
   "outputs": [],
   "source": [
    "CleanData(resp6)\n",
    "married6 = resp6[resp6.evrmarry==1].dropna()\n",
    "\n",
    "CleanData(resp7)\n",
    "married7 = resp7[resp7.evrmarry==1].dropna()\n",
    "\n"
   ]
  },
  {
   "cell_type": "code",
   "execution_count": 164,
   "metadata": {},
   "outputs": [],
   "source": [
    "# Solution goes here1\n",
    "\n",
    "resp6 = survival.ReadFemResp2002()\n",
    "resp7 = survival.ReadFemResp2010().dropna()"
   ]
  },
  {
   "cell_type": "code",
   "execution_count": 231,
   "metadata": {},
   "outputs": [
    {
     "data": {
      "text/html": [
       "<div>\n",
       "<style scoped>\n",
       "    .dataframe tbody tr th:only-of-type {\n",
       "        vertical-align: middle;\n",
       "    }\n",
       "\n",
       "    .dataframe tbody tr th {\n",
       "        vertical-align: top;\n",
       "    }\n",
       "\n",
       "    .dataframe thead th {\n",
       "        text-align: right;\n",
       "    }\n",
       "</style>\n",
       "<table border=\"1\" class=\"dataframe\">\n",
       "  <thead>\n",
       "    <tr style=\"text-align: right;\">\n",
       "      <th></th>\n",
       "      <th>caseid</th>\n",
       "      <th>cmbirth</th>\n",
       "      <th>evrmarry</th>\n",
       "      <th>cmmarrhx</th>\n",
       "      <th>cmdivorcx</th>\n",
       "      <th>parity</th>\n",
       "      <th>finalwgt</th>\n",
       "      <th>cmintvw</th>\n",
       "      <th>agemarry</th>\n",
       "      <th>age</th>\n",
       "      <th>year</th>\n",
       "      <th>decade</th>\n",
       "      <th>fives</th>\n",
       "      <th>notdivorced</th>\n",
       "      <th>duration</th>\n",
       "      <th>durationsofar</th>\n",
       "    </tr>\n",
       "  </thead>\n",
       "  <tbody>\n",
       "    <tr>\n",
       "      <th>1</th>\n",
       "      <td>5012</td>\n",
       "      <td>718</td>\n",
       "      <td>True</td>\n",
       "      <td>974.0</td>\n",
       "      <td>1077.0</td>\n",
       "      <td>1</td>\n",
       "      <td>4744.191350</td>\n",
       "      <td>1233</td>\n",
       "      <td>21.333333</td>\n",
       "      <td>42.916667</td>\n",
       "      <td>59</td>\n",
       "      <td>5</td>\n",
       "      <td>11</td>\n",
       "      <td>0</td>\n",
       "      <td>8.583333</td>\n",
       "      <td>21.583333</td>\n",
       "    </tr>\n",
       "    <tr>\n",
       "      <th>2</th>\n",
       "      <td>11586</td>\n",
       "      <td>708</td>\n",
       "      <td>True</td>\n",
       "      <td>910.0</td>\n",
       "      <td>938.0</td>\n",
       "      <td>1</td>\n",
       "      <td>4744.191350</td>\n",
       "      <td>1234</td>\n",
       "      <td>16.833333</td>\n",
       "      <td>43.833333</td>\n",
       "      <td>58</td>\n",
       "      <td>5</td>\n",
       "      <td>11</td>\n",
       "      <td>0</td>\n",
       "      <td>2.333333</td>\n",
       "      <td>27.000000</td>\n",
       "    </tr>\n",
       "    <tr>\n",
       "      <th>13</th>\n",
       "      <td>11700</td>\n",
       "      <td>822</td>\n",
       "      <td>True</td>\n",
       "      <td>1015.0</td>\n",
       "      <td>1051.0</td>\n",
       "      <td>2</td>\n",
       "      <td>4666.559600</td>\n",
       "      <td>1236</td>\n",
       "      <td>16.083333</td>\n",
       "      <td>34.500000</td>\n",
       "      <td>68</td>\n",
       "      <td>6</td>\n",
       "      <td>13</td>\n",
       "      <td>0</td>\n",
       "      <td>3.000000</td>\n",
       "      <td>18.416667</td>\n",
       "    </tr>\n",
       "    <tr>\n",
       "      <th>14</th>\n",
       "      <td>7354</td>\n",
       "      <td>896</td>\n",
       "      <td>True</td>\n",
       "      <td>1071.0</td>\n",
       "      <td>1178.0</td>\n",
       "      <td>5</td>\n",
       "      <td>3026.730179</td>\n",
       "      <td>1235</td>\n",
       "      <td>14.583333</td>\n",
       "      <td>28.250000</td>\n",
       "      <td>74</td>\n",
       "      <td>7</td>\n",
       "      <td>14</td>\n",
       "      <td>0</td>\n",
       "      <td>8.916667</td>\n",
       "      <td>13.666667</td>\n",
       "    </tr>\n",
       "    <tr>\n",
       "      <th>27</th>\n",
       "      <td>5083</td>\n",
       "      <td>789</td>\n",
       "      <td>True</td>\n",
       "      <td>1064.0</td>\n",
       "      <td>1168.0</td>\n",
       "      <td>2</td>\n",
       "      <td>3374.535218</td>\n",
       "      <td>1236</td>\n",
       "      <td>22.916667</td>\n",
       "      <td>37.250000</td>\n",
       "      <td>65</td>\n",
       "      <td>6</td>\n",
       "      <td>13</td>\n",
       "      <td>0</td>\n",
       "      <td>8.666667</td>\n",
       "      <td>14.333333</td>\n",
       "    </tr>\n",
       "  </tbody>\n",
       "</table>\n",
       "</div>"
      ],
      "text/plain": [
       "    caseid  cmbirth  evrmarry  cmmarrhx  cmdivorcx  parity     finalwgt  \\\n",
       "1     5012      718      True     974.0     1077.0       1  4744.191350   \n",
       "2    11586      708      True     910.0      938.0       1  4744.191350   \n",
       "13   11700      822      True    1015.0     1051.0       2  4666.559600   \n",
       "14    7354      896      True    1071.0     1178.0       5  3026.730179   \n",
       "27    5083      789      True    1064.0     1168.0       2  3374.535218   \n",
       "\n",
       "    cmintvw   agemarry        age  year  decade  fives  notdivorced  duration  \\\n",
       "1      1233  21.333333  42.916667    59       5     11            0  8.583333   \n",
       "2      1234  16.833333  43.833333    58       5     11            0  2.333333   \n",
       "13     1236  16.083333  34.500000    68       6     13            0  3.000000   \n",
       "14     1235  14.583333  28.250000    74       7     14            0  8.916667   \n",
       "27     1236  22.916667  37.250000    65       6     13            0  8.666667   \n",
       "\n",
       "    durationsofar  \n",
       "1       21.583333  \n",
       "2       27.000000  \n",
       "13      18.416667  \n",
       "14      13.666667  \n",
       "27      14.333333  "
      ]
     },
     "execution_count": 231,
     "metadata": {},
     "output_type": "execute_result"
    }
   ],
   "source": [
    "\n",
    "married6.head()\n",
    "#resp6"
   ]
  },
  {
   "cell_type": "code",
   "execution_count": 299,
   "metadata": {},
   "outputs": [
    {
     "data": {
      "text/html": [
       "<div>\n",
       "<style scoped>\n",
       "    .dataframe tbody tr th:only-of-type {\n",
       "        vertical-align: middle;\n",
       "    }\n",
       "\n",
       "    .dataframe tbody tr th {\n",
       "        vertical-align: top;\n",
       "    }\n",
       "\n",
       "    .dataframe thead th {\n",
       "        text-align: right;\n",
       "    }\n",
       "</style>\n",
       "<table border=\"1\" class=\"dataframe\">\n",
       "  <thead>\n",
       "    <tr style=\"text-align: right;\">\n",
       "      <th></th>\n",
       "      <th>caseid</th>\n",
       "      <th>cmbirth</th>\n",
       "      <th>evrmarry</th>\n",
       "      <th>cmmarrhx</th>\n",
       "      <th>cmdivorcx</th>\n",
       "      <th>parity</th>\n",
       "      <th>finalwgt</th>\n",
       "      <th>cmintvw</th>\n",
       "      <th>agemarry</th>\n",
       "      <th>age</th>\n",
       "      <th>year</th>\n",
       "      <th>decade</th>\n",
       "      <th>fives</th>\n",
       "      <th>notdivorced</th>\n",
       "      <th>duration</th>\n",
       "      <th>durationsofar</th>\n",
       "    </tr>\n",
       "  </thead>\n",
       "  <tbody>\n",
       "    <tr>\n",
       "      <th>0</th>\n",
       "      <td>2298</td>\n",
       "      <td>902</td>\n",
       "      <td>False</td>\n",
       "      <td>NaN</td>\n",
       "      <td>NaN</td>\n",
       "      <td>4</td>\n",
       "      <td>5556.717241</td>\n",
       "      <td>1234</td>\n",
       "      <td>NaN</td>\n",
       "      <td>27.666667</td>\n",
       "      <td>75</td>\n",
       "      <td>7</td>\n",
       "      <td>15</td>\n",
       "      <td>1</td>\n",
       "      <td>NaN</td>\n",
       "      <td>NaN</td>\n",
       "    </tr>\n",
       "    <tr>\n",
       "      <th>1</th>\n",
       "      <td>5012</td>\n",
       "      <td>718</td>\n",
       "      <td>True</td>\n",
       "      <td>974.0</td>\n",
       "      <td>1077.0</td>\n",
       "      <td>1</td>\n",
       "      <td>4744.191350</td>\n",
       "      <td>1233</td>\n",
       "      <td>21.333333</td>\n",
       "      <td>42.916667</td>\n",
       "      <td>59</td>\n",
       "      <td>5</td>\n",
       "      <td>11</td>\n",
       "      <td>0</td>\n",
       "      <td>8.583333</td>\n",
       "      <td>21.583333</td>\n",
       "    </tr>\n",
       "    <tr>\n",
       "      <th>2</th>\n",
       "      <td>11586</td>\n",
       "      <td>708</td>\n",
       "      <td>True</td>\n",
       "      <td>910.0</td>\n",
       "      <td>938.0</td>\n",
       "      <td>1</td>\n",
       "      <td>4744.191350</td>\n",
       "      <td>1234</td>\n",
       "      <td>16.833333</td>\n",
       "      <td>43.833333</td>\n",
       "      <td>58</td>\n",
       "      <td>5</td>\n",
       "      <td>11</td>\n",
       "      <td>0</td>\n",
       "      <td>2.333333</td>\n",
       "      <td>27.000000</td>\n",
       "    </tr>\n",
       "    <tr>\n",
       "      <th>3</th>\n",
       "      <td>6794</td>\n",
       "      <td>1042</td>\n",
       "      <td>False</td>\n",
       "      <td>NaN</td>\n",
       "      <td>NaN</td>\n",
       "      <td>0</td>\n",
       "      <td>5923.977368</td>\n",
       "      <td>1234</td>\n",
       "      <td>NaN</td>\n",
       "      <td>16.000000</td>\n",
       "      <td>86</td>\n",
       "      <td>8</td>\n",
       "      <td>17</td>\n",
       "      <td>1</td>\n",
       "      <td>NaN</td>\n",
       "      <td>NaN</td>\n",
       "    </tr>\n",
       "    <tr>\n",
       "      <th>4</th>\n",
       "      <td>616</td>\n",
       "      <td>991</td>\n",
       "      <td>False</td>\n",
       "      <td>NaN</td>\n",
       "      <td>NaN</td>\n",
       "      <td>0</td>\n",
       "      <td>7229.128072</td>\n",
       "      <td>1233</td>\n",
       "      <td>NaN</td>\n",
       "      <td>20.166667</td>\n",
       "      <td>82</td>\n",
       "      <td>8</td>\n",
       "      <td>16</td>\n",
       "      <td>1</td>\n",
       "      <td>NaN</td>\n",
       "      <td>NaN</td>\n",
       "    </tr>\n",
       "    <tr>\n",
       "      <th>...</th>\n",
       "      <td>...</td>\n",
       "      <td>...</td>\n",
       "      <td>...</td>\n",
       "      <td>...</td>\n",
       "      <td>...</td>\n",
       "      <td>...</td>\n",
       "      <td>...</td>\n",
       "      <td>...</td>\n",
       "      <td>...</td>\n",
       "      <td>...</td>\n",
       "      <td>...</td>\n",
       "      <td>...</td>\n",
       "      <td>...</td>\n",
       "      <td>...</td>\n",
       "      <td>...</td>\n",
       "      <td>...</td>\n",
       "    </tr>\n",
       "    <tr>\n",
       "      <th>7638</th>\n",
       "      <td>11018</td>\n",
       "      <td>811</td>\n",
       "      <td>True</td>\n",
       "      <td>1032.0</td>\n",
       "      <td>1053.0</td>\n",
       "      <td>0</td>\n",
       "      <td>6565.818007</td>\n",
       "      <td>1228</td>\n",
       "      <td>18.416667</td>\n",
       "      <td>34.750000</td>\n",
       "      <td>67</td>\n",
       "      <td>6</td>\n",
       "      <td>13</td>\n",
       "      <td>0</td>\n",
       "      <td>1.750000</td>\n",
       "      <td>16.333333</td>\n",
       "    </tr>\n",
       "    <tr>\n",
       "      <th>7639</th>\n",
       "      <td>6075</td>\n",
       "      <td>1014</td>\n",
       "      <td>False</td>\n",
       "      <td>NaN</td>\n",
       "      <td>NaN</td>\n",
       "      <td>0</td>\n",
       "      <td>4392.385746</td>\n",
       "      <td>1228</td>\n",
       "      <td>NaN</td>\n",
       "      <td>17.833333</td>\n",
       "      <td>84</td>\n",
       "      <td>8</td>\n",
       "      <td>16</td>\n",
       "      <td>1</td>\n",
       "      <td>NaN</td>\n",
       "      <td>NaN</td>\n",
       "    </tr>\n",
       "    <tr>\n",
       "      <th>7640</th>\n",
       "      <td>5649</td>\n",
       "      <td>873</td>\n",
       "      <td>False</td>\n",
       "      <td>NaN</td>\n",
       "      <td>NaN</td>\n",
       "      <td>0</td>\n",
       "      <td>6003.228729</td>\n",
       "      <td>1228</td>\n",
       "      <td>NaN</td>\n",
       "      <td>29.583333</td>\n",
       "      <td>72</td>\n",
       "      <td>7</td>\n",
       "      <td>14</td>\n",
       "      <td>1</td>\n",
       "      <td>NaN</td>\n",
       "      <td>NaN</td>\n",
       "    </tr>\n",
       "    <tr>\n",
       "      <th>7641</th>\n",
       "      <td>501</td>\n",
       "      <td>1034</td>\n",
       "      <td>False</td>\n",
       "      <td>NaN</td>\n",
       "      <td>NaN</td>\n",
       "      <td>0</td>\n",
       "      <td>10473.623950</td>\n",
       "      <td>1228</td>\n",
       "      <td>NaN</td>\n",
       "      <td>16.166667</td>\n",
       "      <td>86</td>\n",
       "      <td>8</td>\n",
       "      <td>17</td>\n",
       "      <td>1</td>\n",
       "      <td>NaN</td>\n",
       "      <td>NaN</td>\n",
       "    </tr>\n",
       "    <tr>\n",
       "      <th>7642</th>\n",
       "      <td>10252</td>\n",
       "      <td>889</td>\n",
       "      <td>False</td>\n",
       "      <td>NaN</td>\n",
       "      <td>NaN</td>\n",
       "      <td>0</td>\n",
       "      <td>5847.356491</td>\n",
       "      <td>1230</td>\n",
       "      <td>NaN</td>\n",
       "      <td>28.416667</td>\n",
       "      <td>74</td>\n",
       "      <td>7</td>\n",
       "      <td>14</td>\n",
       "      <td>1</td>\n",
       "      <td>NaN</td>\n",
       "      <td>NaN</td>\n",
       "    </tr>\n",
       "  </tbody>\n",
       "</table>\n",
       "<p>7643 rows × 16 columns</p>\n",
       "</div>"
      ],
      "text/plain": [
       "      caseid  cmbirth  evrmarry  cmmarrhx  cmdivorcx  parity      finalwgt  \\\n",
       "0       2298      902     False       NaN        NaN       4   5556.717241   \n",
       "1       5012      718      True     974.0     1077.0       1   4744.191350   \n",
       "2      11586      708      True     910.0      938.0       1   4744.191350   \n",
       "3       6794     1042     False       NaN        NaN       0   5923.977368   \n",
       "4        616      991     False       NaN        NaN       0   7229.128072   \n",
       "...      ...      ...       ...       ...        ...     ...           ...   \n",
       "7638   11018      811      True    1032.0     1053.0       0   6565.818007   \n",
       "7639    6075     1014     False       NaN        NaN       0   4392.385746   \n",
       "7640    5649      873     False       NaN        NaN       0   6003.228729   \n",
       "7641     501     1034     False       NaN        NaN       0  10473.623950   \n",
       "7642   10252      889     False       NaN        NaN       0   5847.356491   \n",
       "\n",
       "      cmintvw   agemarry        age  year  decade  fives  notdivorced  \\\n",
       "0        1234        NaN  27.666667    75       7     15            1   \n",
       "1        1233  21.333333  42.916667    59       5     11            0   \n",
       "2        1234  16.833333  43.833333    58       5     11            0   \n",
       "3        1234        NaN  16.000000    86       8     17            1   \n",
       "4        1233        NaN  20.166667    82       8     16            1   \n",
       "...       ...        ...        ...   ...     ...    ...          ...   \n",
       "7638     1228  18.416667  34.750000    67       6     13            0   \n",
       "7639     1228        NaN  17.833333    84       8     16            1   \n",
       "7640     1228        NaN  29.583333    72       7     14            1   \n",
       "7641     1228        NaN  16.166667    86       8     17            1   \n",
       "7642     1230        NaN  28.416667    74       7     14            1   \n",
       "\n",
       "      duration  durationsofar  \n",
       "0          NaN            NaN  \n",
       "1     8.583333      21.583333  \n",
       "2     2.333333      27.000000  \n",
       "3          NaN            NaN  \n",
       "4          NaN            NaN  \n",
       "...        ...            ...  \n",
       "7638  1.750000      16.333333  \n",
       "7639       NaN            NaN  \n",
       "7640       NaN            NaN  \n",
       "7641       NaN            NaN  \n",
       "7642       NaN            NaN  \n",
       "\n",
       "[7643 rows x 16 columns]"
      ]
     },
     "execution_count": 299,
     "metadata": {},
     "output_type": "execute_result"
    }
   ],
   "source": [
    "# Solution goes here\n",
    "\n",
    "CleanData(resp6)\n",
    "\n",
    "\n",
    "marriedResp6 = resp6[resp6.evrmarry].dropna()\n",
    "\n",
    "resp6"
   ]
  },
  {
   "cell_type": "code",
   "execution_count": 273,
   "metadata": {},
   "outputs": [],
   "source": [
    "# Solution goes here\n",
    "\n",
    "CleanData(resp7)\n",
    "marriedResp7 = resp7[resp7.evrmarry].dropna()\n",
    "\n",
    "\n"
   ]
  },
  {
   "cell_type": "code",
   "execution_count": 169,
   "metadata": {},
   "outputs": [
    {
     "name": "stdout",
     "output_type": "stream",
     "text": [
      "Requirement already satisfied: lifelines in c:\\users\\cast6\\anaconda3\\lib\\site-packages (0.26.3)\n",
      "Requirement already satisfied: autograd-gamma>=0.3 in c:\\users\\cast6\\anaconda3\\lib\\site-packages (from lifelines) (0.5.0)\n",
      "Requirement already satisfied: numpy>=1.14.0 in c:\\users\\cast6\\anaconda3\\lib\\site-packages (from lifelines) (1.20.1)\n",
      "Requirement already satisfied: formulaic<0.3,>=0.2.2 in c:\\users\\cast6\\anaconda3\\lib\\site-packages (from lifelines) (0.2.4)\n",
      "Requirement already satisfied: pandas>=0.23.0 in c:\\users\\cast6\\anaconda3\\lib\\site-packages (from lifelines) (1.2.4)\n",
      "Requirement already satisfied: autograd>=1.3 in c:\\users\\cast6\\anaconda3\\lib\\site-packages (from lifelines) (1.3)\n",
      "Requirement already satisfied: scipy>=1.2.0 in c:\\users\\cast6\\anaconda3\\lib\\site-packages (from lifelines) (1.6.2)\n",
      "Requirement already satisfied: matplotlib>=3.0 in c:\\users\\cast6\\anaconda3\\lib\\site-packages (from lifelines) (3.3.4)\n",
      "Requirement already satisfied: future>=0.15.2 in c:\\users\\cast6\\anaconda3\\lib\\site-packages (from autograd>=1.3->lifelines) (0.18.2)\n",
      "Requirement already satisfied: astor in c:\\users\\cast6\\anaconda3\\lib\\site-packages (from formulaic<0.3,>=0.2.2->lifelines) (0.8.1)\n",
      "Requirement already satisfied: wrapt in c:\\users\\cast6\\anaconda3\\lib\\site-packages (from formulaic<0.3,>=0.2.2->lifelines) (1.12.1)\n",
      "Requirement already satisfied: interface-meta>=1.2 in c:\\users\\cast6\\anaconda3\\lib\\site-packages (from formulaic<0.3,>=0.2.2->lifelines) (1.2.4)\n",
      "Requirement already satisfied: kiwisolver>=1.0.1 in c:\\users\\cast6\\anaconda3\\lib\\site-packages (from matplotlib>=3.0->lifelines) (1.3.1)\n",
      "Requirement already satisfied: pillow>=6.2.0 in c:\\users\\cast6\\anaconda3\\lib\\site-packages (from matplotlib>=3.0->lifelines) (8.2.0)\n",
      "Requirement already satisfied: cycler>=0.10 in c:\\users\\cast6\\anaconda3\\lib\\site-packages (from matplotlib>=3.0->lifelines) (0.10.0)\n",
      "Requirement already satisfied: python-dateutil>=2.1 in c:\\users\\cast6\\anaconda3\\lib\\site-packages (from matplotlib>=3.0->lifelines) (2.8.1)\n",
      "Requirement already satisfied: pyparsing!=2.0.4,!=2.1.2,!=2.1.6,>=2.0.3 in c:\\users\\cast6\\anaconda3\\lib\\site-packages (from matplotlib>=3.0->lifelines) (2.4.7)\n",
      "Requirement already satisfied: six in c:\\users\\cast6\\anaconda3\\lib\\site-packages (from cycler>=0.10->matplotlib>=3.0->lifelines) (1.15.0)\n",
      "Requirement already satisfied: pytz>=2017.3 in c:\\users\\cast6\\anaconda3\\lib\\site-packages (from pandas>=0.23.0->lifelines) (2021.1)\n"
     ]
    }
   ],
   "source": [
    "!pip install lifelines"
   ]
  },
  {
   "cell_type": "code",
   "execution_count": 170,
   "metadata": {},
   "outputs": [],
   "source": [
    "# Solution goes here\n",
    "\n",
    "import lifelines\n",
    "from lifelines import KaplanMeierFitter"
   ]
  },
  {
   "cell_type": "code",
   "execution_count": 329,
   "metadata": {},
   "outputs": [],
   "source": [
    "complete6 = marriedResp6[marriedResp6.notdivorced == 0].duration\n",
    "ongoing6 = marriedResp6[marriedResp6.notdivorced == 1].durationsofar\n",
    "\n",
    "\n",
    "#DECongoing6 = marriedResp6[marriedResp6.notdivorced == 1].decade\n",
    "DivTimeFrame = marriedResp6[marriedResp6.notdivorced == 0].decade\n"
   ]
  },
  {
   "cell_type": "code",
   "execution_count": 330,
   "metadata": {},
   "outputs": [],
   "source": [
    "\n",
    "\n",
    "complete7 = marriedResp7[marriedResp7.notdivorced == 0].duration\n",
    "\n",
    "ongoing7 = resp6[resp6.notdivorced == 0].durationsofar\n",
    "\n",
    "DivTimeFrame2 = marriedResp7[marriedResp7.notdivorced == 0].decade"
   ]
  },
  {
   "cell_type": "code",
   "execution_count": 173,
   "metadata": {},
   "outputs": [],
   "source": [
    "kfm = KaplanMeierFitter() "
   ]
  },
  {
   "cell_type": "code",
   "execution_count": 334,
   "metadata": {
    "scrolled": true
   },
   "outputs": [
    {
     "data": {
      "text/plain": [
       "<lifelines.KaplanMeierFitter:\"completed 6\", fitted with 977 total observations, 55 right-censored observations>"
      ]
     },
     "execution_count": 334,
     "metadata": {},
     "output_type": "execute_result"
    }
   ],
   "source": [
    "\n",
    "\n",
    "kfm.fit(DivTimeFrame, complete6, label='completed 6')\n"
   ]
  },
  {
   "cell_type": "code",
   "execution_count": 335,
   "metadata": {},
   "outputs": [
    {
     "data": {
      "text/plain": [
       "<AxesSubplot:xlabel='timeline'>"
      ]
     },
     "execution_count": 335,
     "metadata": {},
     "output_type": "execute_result"
    },
    {
     "data": {
      "image/png": "[encoded data removed]",
      "text/plain": [
       "<Figure size 432x288 with 1 Axes>"
      ]
     },
     "metadata": {
      "needs_background": "light"
     },
     "output_type": "display_data"
    }
   ],
   "source": [
    " plot1 = kfm.plot()\n",
    "\n",
    "\n",
    "kfm.fit(DivTimeFrame2,complete7 , label =\"Completed 7 \")\n",
    "kfm.plot(ax= plot1)"
   ]
  },
  {
   "cell_type": "markdown",
   "metadata": {},
   "source": [
    "# Hazard Function"
   ]
  },
  {
   "cell_type": "code",
   "execution_count": 336,
   "metadata": {},
   "outputs": [],
   "source": [
    "from lifelines import NelsonAalenFitter"
   ]
  },
  {
   "cell_type": "code",
   "execution_count": 338,
   "metadata": {},
   "outputs": [],
   "source": [
    "naf_m = NelsonAalenFitter()\n",
    "naf_f = NelsonAalenFitter()"
   ]
  },
  {
   "cell_type": "code",
   "execution_count": 340,
   "metadata": {},
   "outputs": [
    {
     "data": {
      "text/plain": [
       "<lifelines.NelsonAalenFitter:\"NA_estimate\", fitted with 1551 total observations, 73 right-censored observations>"
      ]
     },
     "execution_count": 340,
     "metadata": {},
     "output_type": "execute_result"
    }
   ],
   "source": [
    "naf_m.fit(DivTimeFrame,complete6)\n",
    "naf_f.fit(DivTimeFrame2,complete7)"
   ]
  },
  {
   "cell_type": "code",
   "execution_count": 342,
   "metadata": {},
   "outputs": [
    {
     "data": {
      "text/plain": [
       "<AxesSubplot:xlabel='timeline'>"
      ]
     },
     "execution_count": 342,
     "metadata": {},
     "output_type": "execute_result"
    },
    {
     "data": {
      "image/png": "[encoded data removed]",
      "text/plain": [
       "<Figure size 432x288 with 1 Axes>"
      ]
     },
     "metadata": {
      "needs_background": "light"
     },
     "output_type": "display_data"
    }
   ],
   "source": [
    "naf_m.plot_cumulative_hazard()"
   ]
  },
  {
   "cell_type": "code",
   "execution_count": 344,
   "metadata": {},
   "outputs": [
    {
     "data": {
      "text/plain": [
       "<AxesSubplot:xlabel='timeline'>"
      ]
     },
     "execution_count": 344,
     "metadata": {},
     "output_type": "execute_result"
    },
    {
     "data": {
      "image/png": "[encoded data removed]",
      "text/plain": [
       "<Figure size 432x288 with 1 Axes>"
      ]
     },
     "metadata": {
      "needs_background": "light"
     },
     "output_type": "display_data"
    }
   ],
   "source": [
    "naf_f.plot_cumulative_hazard()"
   ]
  }
 ],
 "metadata": {
  "kernelspec": {
   "display_name": "Python 3",
   "language": "python",
   "name": "python3"
  },
  "language_info": {
   "codemirror_mode": {
    "name": "ipython",
    "version": 3
   },
   "file_extension": ".py",
   "mimetype": "text/x-python",
   "name": "python",
   "nbconvert_exporter": "python",
   "pygments_lexer": "ipython3",
   "version": "3.8.8"
  }
 },
 "nbformat": 4,
 "nbformat_minor": 1
}
